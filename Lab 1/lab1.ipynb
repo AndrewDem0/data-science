{
 "cells": [
  {
   "cell_type": "markdown",
   "metadata": {},
   "source": [
    "Jupyter Notebook — це інтерактивне середовище для програмування та обчислень, яке дозволяє поєднувати в одному документі код, текст, формули, графіки та інші мультимедійні елементи. Основне призначення Jupyter Notebook — підтримка інтерактивної роботи з даними, що робить його ідеальним для аналізу, візуалізації, моделювання та документування обчислень.\n"
   ]
  },
  {
   "cell_type": "code",
   "execution_count": 5,
   "metadata": {},
   "outputs": [
    {
     "name": "stdout",
     "output_type": "stream",
     "text": [
      "Hello, Andrew!\n"
     ]
    }
   ],
   "source": [
    "name = input(\"enter name-> \")\n",
    "\n",
    "print(f\"Hello, {name}!\")"
   ]
  },
  {
   "cell_type": "code",
   "execution_count": 20,
   "metadata": {},
   "outputs": [
    {
     "name": "stdout",
     "output_type": "stream",
     "text": [
      "Масив випадкових чисел: [65 44 28 51 75 33 48 21 88 70]\n",
      "Середнє значення: 52.3\n"
     ]
    }
   ],
   "source": [
    "import numpy as np\n",
    "\n",
    "RandomValue = np.random.randint(10,100,10)\n",
    "AverageValue = np.mean(RandomValue)\n",
    "\n",
    "print(\"Масив випадкових чисел:\", RandomValue)\n",
    "print(\"Середнє значення:\", AverageValue)\n"
   ]
  }
 ],
 "metadata": {
  "kernelspec": {
   "display_name": "myenv",
   "language": "python",
   "name": "python3"
  },
  "language_info": {
   "codemirror_mode": {
    "name": "ipython",
    "version": 3
   },
   "file_extension": ".py",
   "mimetype": "text/x-python",
   "name": "python",
   "nbconvert_exporter": "python",
   "pygments_lexer": "ipython3",
   "version": "3.10.8"
  }
 },
 "nbformat": 4,
 "nbformat_minor": 2
}
